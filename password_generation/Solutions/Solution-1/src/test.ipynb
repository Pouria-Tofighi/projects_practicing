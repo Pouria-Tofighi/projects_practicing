{
 "cells": [
  {
   "cell_type": "code",
   "execution_count": 4,
   "metadata": {},
   "outputs": [],
   "source": [
    "from abc import ABC, abstractmethod\n",
    "import string\n",
    "import random\n",
    "import nltk"
   ]
  },
  {
   "cell_type": "code",
   "execution_count": 5,
   "metadata": {},
   "outputs": [
    {
     "name": "stderr",
     "output_type": "stream",
     "text": [
      "[nltk_data] Downloading package words to /home/pouria-lx/nltk_data...\n",
      "[nltk_data]   Package words is already up-to-date!\n"
     ]
    },
    {
     "data": {
      "text/plain": [
       "True"
      ]
     },
     "execution_count": 5,
     "metadata": {},
     "output_type": "execute_result"
    }
   ],
   "source": [
    "nltk.download(\"words\")"
   ]
  },
  {
   "cell_type": "code",
   "execution_count": 6,
   "metadata": {},
   "outputs": [],
   "source": [
    "class PasswordGenerator(ABC):\n",
    "    \"\"\" \n",
    "    Base class for generating passwords.\n",
    "    \"\"\"\n",
    "\n",
    "    def generate(self, ):\n",
    "        \"\"\"\n",
    "        Subclasses should override this method to generate password\n",
    "        \"\"\"\n",
    "        pass\n"
   ]
  },
  {
   "cell_type": "code",
   "execution_count": 7,
   "metadata": {},
   "outputs": [],
   "source": [
    "class RandomPasswordGenerator(PasswordGenerator):\n",
    "    \"\"\"\n",
    "    The class is used to generate radnom password\n",
    "    \"\"\"\n",
    "    def __init__(self, length: int = 8, include_number: bool = False, include_symble: bool = False):\n",
    "        self.length = length\n",
    "        self.characters: str = string.ascii_letters\n",
    "        if include_number:\n",
    "            self.characters += string.digits\n",
    "        if include_symble:\n",
    "            self.characters += string.punctuation\n",
    "\n",
    "    def generate(self, ):\n",
    "        \"\"\" \n",
    "        Generate a password from specified characters.\n",
    "        \"\"\"\n",
    "\n",
    "        return ''.join(random.choice(self.characters) for _ in range(self.length))\n",
    "    \n"
   ]
  },
  {
   "cell_type": "code",
   "execution_count": 8,
   "metadata": {},
   "outputs": [
    {
     "data": {
      "text/plain": [
       "'H@\\\\c<@^tc'"
      ]
     },
     "execution_count": 8,
     "metadata": {},
     "output_type": "execute_result"
    }
   ],
   "source": [
    "d = RandomPasswordGenerator(9, False, True)\n",
    "d.generate()"
   ]
  },
  {
   "cell_type": "code",
   "execution_count": 31,
   "metadata": {},
   "outputs": [],
   "source": [
    "class MemorablePasswordGenerator(PasswordGenerator):\n",
    "    \"\"\" \n",
    "    Class to generate a memorable password.\n",
    "    \"\"\"\n",
    "\n",
    "    def __init__(self,\n",
    "                 No_of_words: str = 5,\n",
    "                 seperator: str = '-',\n",
    "                 capitalization: bool = False, \n",
    "                 vocabulary: list = None):\n",
    "    \n",
    "        if vocabulary is None:\n",
    "            vocabulary = nltk.corpus.words.words() # edit this to any vocabulary list\n",
    "\n",
    "        self.No_of_words = No_of_words\n",
    "        self.seperator = seperator\n",
    "        self.capitalization = capitalization\n",
    "        self.vocabulary = vocabulary\n",
    "\n",
    "    def generate(self, ):\n",
    "        password_word = [random.choice(self.vocabulary) for _ in range(self.No_of_words)]\n",
    "        if self.capitalization:\n",
    "            password_word = [word.upper() for word in password_word]\n",
    "\n",
    "        return (self.seperator.join(password_word))\n",
    "    \n"
   ]
  },
  {
   "cell_type": "code",
   "execution_count": 32,
   "metadata": {},
   "outputs": [],
   "source": [
    "memorable = MemorablePasswordGenerator(No_of_words=5, seperator=\"*\", capitalization= True)"
   ]
  },
  {
   "cell_type": "code",
   "execution_count": 33,
   "metadata": {},
   "outputs": [
    {
     "ename": "AttributeError",
     "evalue": "'MemorablePasswordGenerator' object has no attribute 'generator'",
     "output_type": "error",
     "traceback": [
      "\u001b[0;31m---------------------------------------------------------------------------\u001b[0m",
      "\u001b[0;31mAttributeError\u001b[0m                            Traceback (most recent call last)",
      "Cell \u001b[0;32mIn[33], line 1\u001b[0m\n\u001b[0;32m----> 1\u001b[0m memorable\u001b[38;5;241m.\u001b[39mgenerator()\n",
      "\u001b[0;31mAttributeError\u001b[0m: 'MemorablePasswordGenerator' object has no attribute 'generator'"
     ]
    }
   ],
   "source": [
    "memorable.generator()"
   ]
  },
  {
   "cell_type": "code",
   "execution_count": 34,
   "metadata": {},
   "outputs": [],
   "source": [
    "class PinCodeGenerator(PasswordGenerator):\n",
    "    \"\"\"\n",
    "    Class to generate a numeric pin code \n",
    "    \"\"\"\n",
    "\n",
    "    def __init__(self, length: int = 4):\n",
    "        self.length = length\n",
    "\n",
    "    def generator(self, ) -> str:\n",
    "        \"\"\"\n",
    "        Benerate a numeric pin code\n",
    "        \"\"\"\n",
    "        return ''.join(random.choice(string.digits) for _ in range(self.length))\n"
   ]
  },
  {
   "cell_type": "code",
   "execution_count": 35,
   "metadata": {},
   "outputs": [],
   "source": [
    "def test_random_password_generator():\n",
    "    random_gen = RandomPasswordGenerator(length=10, include_number= True, include_symble=True)\n",
    "    password = random_gen.generate()\n",
    "    print(password)\n",
    "    assert len(password) == 10\n",
    "    assert any(char in string.ascii_letters for char in password)\n",
    "    assert any(char in string.digits for char in password)\n",
    "\n"
   ]
  },
  {
   "cell_type": "code",
   "execution_count": 44,
   "metadata": {},
   "outputs": [],
   "source": [
    "def test_memorable_password_generator():\n",
    "    memorable_password = MemorablePasswordGenerator(\n",
    "        No_of_words=4,\n",
    "        seperator='-',\n",
    "        capitalization=True,\n",
    "        vocabulary=nltk.corpus.words.words(),\n",
    "    )\n",
    "    password = memorable_password.generate()\n",
    "    print(password)\n",
    "    assert len(password.split(memorable_password.seperator)) == memorable_password.No_of_words\n",
    "    assert all(word[0].isupper() for word in password.split(memorable_password.seperator))"
   ]
  },
  {
   "cell_type": "code",
   "execution_count": 45,
   "metadata": {},
   "outputs": [
    {
     "name": "stdout",
     "output_type": "stream",
     "text": [
      "DACTYLOSCOPIC-REPRODUCE-BESLAB-LOWELL\n"
     ]
    }
   ],
   "source": [
    "test_memorable_password_generator()"
   ]
  },
  {
   "cell_type": "code",
   "execution_count": null,
   "metadata": {},
   "outputs": [
    {
     "name": "stdout",
     "output_type": "stream",
     "text": [
      "Please enter a currect input\n",
      "5\n"
     ]
    }
   ],
   "source": [
    "while True:\n",
    "    user_length = input(\"Enter the length of the password you want: \")\n",
    "\n",
    "    if not user_length.isdigit():\n",
    "        print(\"Please enter a currect input\")\n",
    "        continue\n",
    "    else:\n",
    "        break\n",
    "\n",
    "print(user_length)"
   ]
  },
  {
   "cell_type": "code",
   "execution_count": 51,
   "metadata": {},
   "outputs": [
    {
     "data": {
      "text/plain": [
       "True"
      ]
     },
     "execution_count": 51,
     "metadata": {},
     "output_type": "execute_result"
    }
   ],
   "source": []
  },
  {
   "cell_type": "code",
   "execution_count": 1,
   "metadata": {},
   "outputs": [
    {
     "name": "stdout",
     "output_type": "stream",
     "text": [
      "aaaa\n"
     ]
    }
   ],
   "source": [
    "f = input(\"sdf\")\n",
    "if not f:\n",
    "    print(\"aaaa\")"
   ]
  },
  {
   "cell_type": "code",
   "execution_count": null,
   "metadata": {},
   "outputs": [],
   "source": []
  }
 ],
 "metadata": {
  "kernelspec": {
   "display_name": "base",
   "language": "python",
   "name": "python3"
  },
  "language_info": {
   "codemirror_mode": {
    "name": "ipython",
    "version": 3
   },
   "file_extension": ".py",
   "mimetype": "text/x-python",
   "name": "python",
   "nbconvert_exporter": "python",
   "pygments_lexer": "ipython3",
   "version": "3.12.7"
  }
 },
 "nbformat": 4,
 "nbformat_minor": 2
}
